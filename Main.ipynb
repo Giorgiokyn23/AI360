{
 "cells": [
  {
   "cell_type": "code",
   "execution_count": 5,
   "id": "6fec9730-b370-445c-afe0-2605ff1aca10",
   "metadata": {},
   "outputs": [
    {
     "name": "stderr",
     "output_type": "stream",
     "text": [
      "/var/folders/c7/s4b91brd5951stsg2n86bh500000gn/T/ipykernel_94332/627759351.py:18: FutureWarning: Downcasting behavior in `replace` is deprecated and will be removed in a future version. To retain the old behavior, explicitly call `result.infer_objects(copy=False)`. To opt-in to the future behavior, set `pd.set_option('future.no_silent_downcasting', True)`\n",
      "  df.replace({'yes': 1, 'no': 0}, inplace=True)\n"
     ]
    },
    {
     "name": "stdout",
     "output_type": "stream",
     "text": [
      "Accuracy: 0.9075018208302986\n",
      "Fairness-aware Accuracy: 0.9101723719349356\n",
      "Disparate Impact: 0.5111180796504041\n",
      "Mean Difference: -0.062185354028587866\n"
     ]
    }
   ],
   "source": [
    "import pandas as pd\n",
    "from sklearn.model_selection import train_test_split\n",
    "from sklearn.ensemble import RandomForestClassifier\n",
    "from sklearn.metrics import accuracy_score\n",
    "from aif360.datasets import BinaryLabelDataset\n",
    "from aif360.metrics import BinaryLabelDatasetMetric\n",
    "from aif360.algorithms.preprocessing import Reweighing\n",
    "\n",
    "# Load the dataset from local file\n",
    "file_path = \"bank-additional/bank-additional-full.csv\"  # Update the file path with your local file location\n",
    "df = pd.read_csv(file_path, delimiter=\";\")\n",
    "\n",
    "# Preprocess the data\n",
    "# Convert categorical variables into dummy/indicator variables\n",
    "df = pd.get_dummies(df, columns=[\"job\", \"marital\", \"education\", \"default\", \"housing\", \"loan\", \"contact\", \"month\", \"day_of_week\", \"poutcome\"])\n",
    "\n",
    "# Convert 'yes' and 'no' values to 1 and 0\n",
    "df.replace({'yes': 1, 'no': 0}, inplace=True)\n",
    "\n",
    "# Split data into features and target variable\n",
    "X = df.drop(columns=[\"y\"])\n",
    "y = df[\"y\"]\n",
    "\n",
    "# Split data into training and testing sets\n",
    "X_train, X_test, y_train, y_test = train_test_split(X, y, test_size=0.2, random_state=42)\n",
    "\n",
    "# Train a Random Forest classifier\n",
    "clf = RandomForestClassifier()\n",
    "clf.fit(X_train, y_train)\n",
    "\n",
    "# Predict on the test set\n",
    "y_pred = clf.predict(X_test)\n",
    "\n",
    "# Evaluate the model\n",
    "accuracy = accuracy_score(y_test, y_pred)\n",
    "print(\"Accuracy:\", accuracy)\n",
    "\n",
    "# Convert pandas DataFrame to AIF360 BinaryLabelDataset\n",
    "train_dataset = BinaryLabelDataset(df=pd.concat([X_train, y_train], axis=1), label_names=['y'], protected_attribute_names=['job_blue-collar'],\n",
    "                                   favorable_label=1, unfavorable_label=0)\n",
    "test_dataset = BinaryLabelDataset(df=pd.concat([X_test, y_test], axis=1), label_names=['y'], protected_attribute_names=['job_blue-collar'],\n",
    "                                  favorable_label=1, unfavorable_label=0)\n",
    "\n",
    "# Train a Random Forest classifier on the AIF360 dataset\n",
    "clf_aif360 = RandomForestClassifier()\n",
    "clf_aif360.fit(train_dataset.features, train_dataset.labels.ravel())\n",
    "\n",
    "# Predict on the AIF360 test set\n",
    "y_pred_aif360 = clf_aif360.predict(test_dataset.features)\n",
    "\n",
    "# Evaluate the AIF360 model\n",
    "accuracy_aif360 = accuracy_score(test_dataset.labels.ravel(), y_pred_aif360)\n",
    "print(\"Fairness-aware Accuracy:\", accuracy_aif360)\n",
    "\n",
    "# Calculate fairness metrics\n",
    "metric = BinaryLabelDatasetMetric(test_dataset, unprivileged_groups=unprivileged_groups, privileged_groups=privileged_groups)\n",
    "print(\"Disparate Impact:\", metric.disparate_impact())\n",
    "print(\"Mean Difference:\", metric.mean_difference())\n"
   ]
  },
  {
   "cell_type": "code",
   "execution_count": null,
   "id": "70198768-3fef-46e4-a604-99f24a4b53a0",
   "metadata": {},
   "outputs": [],
   "source": []
  }
 ],
 "metadata": {
  "kernelspec": {
   "display_name": "Python 3 (ipykernel)",
   "language": "python",
   "name": "python3"
  },
  "language_info": {
   "codemirror_mode": {
    "name": "ipython",
    "version": 3
   },
   "file_extension": ".py",
   "mimetype": "text/x-python",
   "name": "python",
   "nbconvert_exporter": "python",
   "pygments_lexer": "ipython3",
   "version": "3.11.5"
  }
 },
 "nbformat": 4,
 "nbformat_minor": 5
}
